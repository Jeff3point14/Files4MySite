{
 "cells": [
  {
   "cell_type": "markdown",
   "metadata": {},
   "source": [
    "<img src=\"ME.jpg\" width=\"400\" height=\"400\" align=\"left\"/>"
   ]
  },
  {
   "cell_type": "markdown",
   "metadata": {},
   "source": [
    "\n",
    "**Hi, I'm Jeff Levine, an analyst with a background as CPA and a lawyer.** From technical areas of legal and financial analysis, to operational projects in real estate, manufacturing, healthcare informatics and well beyond, I've worked with all kinds of complex datasets that have challenged my coding skills in all kinds of ways. I'm always happy to share what I've learned and always grateful when others share with me. [Jupyter Notebooks](http://jupyter.org) are quickly becoming one of my favorite tools for sharing data science techniques, especially when taking advantage of the extensively supported packages in [R and Python](https://www.datacamp.com/community/tutorials/r-or-python-for-data-analysis#gs.nSZGNJ8) to simplify many steps. I use them for all sorts of things. In fact, as you may have already noticed, the pages of this site are notebooks. This page is just a few [Markdown Cells](http://jupyter-notebook.readthedocs.io/en/latest/examples/Notebook/Working%20With%20Markdown%20Cells.html), obviously nothing too exciting, but stick around for [Code Cells](http://jupyter-notebook.readthedocs.io/en/latest/examples/Notebook/Running%20Code.html#Code-cells-allow-you-to-enter-and-run-code) and get ready for the real fun to begin! Hopefully you might even find some notebooks [here](http://nbviewer.jupyter.org/github/Jeff3point14/Files4MySite/blob/master/Jupyter.ipynb) that deal with specific problems you've been trying to solve. On the other hand, like any other tool, they're not right for every job. Please feel free to visit [My LinkedIn Profile](https://www.linkedin.com/in/levinejeffrey) or [Contact Me](https://sites.google.com/site/jeffreylevineindex) if you have any questions about some of the other ways I may be able help you or your organization. Thanks, Jeff"
   ]
  }
 ],
 "metadata": {
  "anaconda-cloud": {},
  "kernelspec": {
   "display_name": "Python [Root]",
   "language": "python",
   "name": "Python [Root]"
  },
  "language_info": {
   "codemirror_mode": {
    "name": "ipython",
    "version": 3
   },
   "file_extension": ".py",
   "mimetype": "text/x-python",
   "name": "python",
   "nbconvert_exporter": "python",
   "pygments_lexer": "ipython3",
   "version": "3.5.2"
  }
 },
 "nbformat": 4,
 "nbformat_minor": 0
}
